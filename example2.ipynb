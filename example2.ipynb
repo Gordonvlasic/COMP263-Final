{
 "cells": [
  {
   "cell_type": "markdown",
   "metadata": {},
   "source": [
    "# Logistic Regression with Transfer Learning"
   ]
  },
  {
   "cell_type": "code",
   "execution_count": 2,
   "metadata": {},
   "outputs": [
    {
     "name": "stderr",
     "output_type": "stream",
     "text": [
      "c:\\Users\\Gordon\\.conda\\envs\\gputest\\lib\\site-packages\\tqdm\\auto.py:21: TqdmWarning: IProgress not found. Please update jupyter and ipywidgets. See https://ipywidgets.readthedocs.io/en/stable/user_install.html\n",
      "  from .autonotebook import tqdm as notebook_tqdm\n"
     ]
    },
    {
     "name": "stdout",
     "output_type": "stream",
     "text": [
      "Using device: cuda\n"
     ]
    },
    {
     "name": "stderr",
     "output_type": "stream",
     "text": [
      "Some weights of the model checkpoint at bert-base-uncased were not used when initializing BertModel: ['cls.predictions.transform.dense.bias', 'cls.predictions.bias', 'cls.predictions.transform.dense.weight', 'cls.predictions.transform.LayerNorm.weight', 'cls.seq_relationship.bias', 'cls.predictions.transform.LayerNorm.bias', 'cls.seq_relationship.weight']\n",
      "- This IS expected if you are initializing BertModel from the checkpoint of a model trained on another task or with another architecture (e.g. initializing a BertForSequenceClassification model from a BertForPreTraining model).\n",
      "- This IS NOT expected if you are initializing BertModel from the checkpoint of a model that you expect to be exactly identical (initializing a BertForSequenceClassification model from a BertForSequenceClassification model).\n"
     ]
    },
    {
     "name": "stdout",
     "output_type": "stream",
     "text": [
      "              precision    recall  f1-score   support\n",
      "\n",
      "           0       0.52      0.54      0.53       151\n",
      "           1       0.53      0.54      0.53       202\n",
      "           2       0.50      0.49      0.50       195\n",
      "           3       0.44      0.46      0.45       183\n",
      "           4       0.55      0.48      0.51       205\n",
      "           5       0.63      0.64      0.64       215\n",
      "           6       0.74      0.69      0.72       193\n",
      "           7       0.47      0.66      0.55       196\n",
      "           8       0.58      0.64      0.60       168\n",
      "           9       0.87      0.81      0.84       211\n",
      "          10       0.88      0.83      0.85       198\n",
      "          11       0.71      0.68      0.69       201\n",
      "          12       0.59      0.52      0.55       202\n",
      "          13       0.82      0.78      0.80       194\n",
      "          14       0.71      0.74      0.73       189\n",
      "          15       0.67      0.69      0.68       202\n",
      "          16       0.59      0.60      0.60       188\n",
      "          17       0.73      0.73      0.73       182\n",
      "          18       0.55      0.56      0.56       159\n",
      "          19       0.39      0.31      0.34       136\n",
      "\n",
      "    accuracy                           0.63      3770\n",
      "   macro avg       0.62      0.62      0.62      3770\n",
      "weighted avg       0.63      0.63      0.63      3770\n",
      "\n"
     ]
    },
    {
     "name": "stderr",
     "output_type": "stream",
     "text": [
      "c:\\Users\\Gordon\\.conda\\envs\\gputest\\lib\\site-packages\\sklearn\\linear_model\\_logistic.py:818: ConvergenceWarning: lbfgs failed to converge (status=1):\n",
      "STOP: TOTAL NO. of ITERATIONS REACHED LIMIT.\n",
      "\n",
      "Increase the number of iterations (max_iter) or scale the data as shown in:\n",
      "    https://scikit-learn.org/stable/modules/preprocessing.html\n",
      "Please also refer to the documentation for alternative solver options:\n",
      "    https://scikit-learn.org/stable/modules/linear_model.html#logistic-regression\n",
      "  extra_warning_msg=_LOGISTIC_SOLVER_CONVERGENCE_MSG,\n"
     ]
    }
   ],
   "source": [
    "from sklearn.datasets import fetch_20newsgroups\n",
    "from transformers import BertTokenizer, BertModel\n",
    "import torch\n",
    "import numpy as np\n",
    "from sklearn.linear_model import LogisticRegression\n",
    "from sklearn.model_selection import train_test_split\n",
    "from sklearn.metrics import classification_report\n",
    "\n",
    "device = torch.device(\"cuda\" if torch.cuda.is_available() else \"cpu\")\n",
    "print(\"Using device:\", device)\n",
    "\n",
    "data = fetch_20newsgroups(subset='all', remove=('headers', 'footers', 'quotes'))\n",
    "texts = data.data\n",
    "labels = data.target\n",
    "\n",
    "tokenizer = BertTokenizer.from_pretrained('bert-base-uncased')\n",
    "\n",
    "def encode_texts(texts):\n",
    "    inputs = tokenizer(texts, padding=True, truncation=True, max_length=512, return_tensors=\"pt\")\n",
    "    return inputs.to(device)\n",
    "\n",
    "model = BertModel.from_pretrained('bert-base-uncased').to(device)\n",
    "\n",
    "model.eval()\n",
    "\n",
    "batch_size = 16 \n",
    "features = []\n",
    "for i in range(0, len(texts), batch_size):\n",
    "    batch_texts = texts[i:i+batch_size]\n",
    "    encoded_inputs = encode_texts(batch_texts)\n",
    "    with torch.no_grad():\n",
    "        outputs = model(**encoded_inputs)\n",
    "        batch_features = outputs.last_hidden_state[:, 0, :].cpu().numpy()\n",
    "        features.append(batch_features)\n",
    "\n",
    "features = np.vstack(features)\n",
    "\n",
    "X_train, X_test, y_train, y_test = train_test_split(features, labels, test_size=0.2, random_state=42)\n",
    "\n",
    "classifier = LogisticRegression(max_iter=1000)\n",
    "classifier.fit(X_train, y_train)\n",
    "\n",
    "predictions = classifier.predict(X_test)\n",
    "print(classification_report(y_test, predictions))\n"
   ]
  },
  {
   "cell_type": "markdown",
   "metadata": {},
   "source": [
    "## Predict"
   ]
  },
  {
   "cell_type": "code",
   "execution_count": 4,
   "metadata": {},
   "outputs": [
    {
     "name": "stdout",
     "output_type": "stream",
     "text": [
      "Predictions: [ 2 19]\n",
      "Predicted categories: ['comp.os.ms-windows.misc', 'talk.religion.misc']\n"
     ]
    }
   ],
   "source": [
    "def predict_new_texts(new_texts, tokenizer, model, classifier, device):\n",
    "\n",
    "    model.eval()\n",
    "    \n",
    "\n",
    "    encoded_inputs = tokenizer(new_texts, padding=True, truncation=True, max_length=512, return_tensors=\"pt\")\n",
    "    encoded_inputs = encoded_inputs.to(device)\n",
    "    \n",
    "\n",
    "    with torch.no_grad():\n",
    "        outputs = model(**encoded_inputs)\n",
    "\n",
    "        features = outputs.last_hidden_state[:, 0, :].cpu().numpy()\n",
    "\n",
    "\n",
    "    predictions = classifier.predict(features)\n",
    "    return predictions\n",
    "\n",
    "new_texts = [\n",
    "    \"Healthcare advancements help to increase life expectancy\",\n",
    "    \"Christ is king!.\"\n",
    "]\n",
    "\n",
    "\n",
    "predictions = predict_new_texts(new_texts, tokenizer, model, classifier, device)\n",
    "\n",
    "\n",
    "print(\"Predictions:\", predictions)\n",
    "print(\"Predicted categories:\", [data.target_names[pred] for pred in predictions])\n"
   ]
  }
 ],
 "metadata": {
  "kernelspec": {
   "display_name": "gputest",
   "language": "python",
   "name": "python3"
  },
  "language_info": {
   "codemirror_mode": {
    "name": "ipython",
    "version": 3
   },
   "file_extension": ".py",
   "mimetype": "text/x-python",
   "name": "python",
   "nbconvert_exporter": "python",
   "pygments_lexer": "ipython3",
   "version": "3.7.16"
  }
 },
 "nbformat": 4,
 "nbformat_minor": 2
}
